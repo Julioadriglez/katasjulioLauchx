{
 "cells": [
  {
   "cell_type": "markdown",
   "metadata": {},
   "source": [
    "# Módulo 3 - Usar lógica booleana\n",
    "### Ejercicio - Escribir declaraciones if, else, y elif"
   ]
  },
  {
   "cell_type": "code",
   "execution_count": 9,
   "metadata": {},
   "outputs": [
    {
     "name": "stdout",
     "output_type": "stream",
     "text": [
      "Asteroide se acerca demaciado rapido a la tierra\n"
     ]
    }
   ],
   "source": [
    "vel_limite = 25\n",
    "asteriode = 49\n",
    "if asteriode > vel_limite:\n",
    "    print(\"Asteroide se acerca demaciado rapido a la tierra\")\n",
    "else:\n",
    "        print(\"Asteroide no es peligro para la tierra\")"
   ]
  },
  {
   "cell_type": "code",
   "execution_count": 3,
   "metadata": {},
   "outputs": [
    {
     "name": "stdout",
     "output_type": "stream",
     "text": [
      "no se observaran estrellas fugases\n"
     ]
    }
   ],
   "source": [
    "vel_limite = 20\n",
    "asteriode = 19\n",
    "if asteriode >= vel_limite:\n",
    "    print(\"Se observara en el cielo  una estrella fugas \")\n",
    "else:\n",
    "    print(\"no se observaran estrellas fugases\")    "
   ]
  },
  {
   "cell_type": "markdown",
   "metadata": {},
   "source": [
    "### Ejercicio: Uso de operadores and y or"
   ]
  },
  {
   "cell_type": "code",
   "execution_count": 1,
   "metadata": {},
   "outputs": [
    {
     "name": "stdout",
     "output_type": "stream",
     "text": [
      "peligro, asteroide golpeara la tierra\n"
     ]
    }
   ],
   "source": [
    "asteriode_tamaño= 65\n",
    "vel_asteroide= 30\n",
    "if asteriode_tamaño > 25 and vel_asteroide> 25:\n",
    "    print(\"peligro, asteroide golpeara la tierra\")\n",
    "elif vel_asteroide >= 20:\n",
    "    print(\"Se observara en el cielo  una estrella fugas \")\n",
    "elif asteriode_tamaño < 25:\n",
    "    print(\"No hay peligro de impacto de asteroide  \")\n",
    "\n"
   ]
  }
 ],
 "metadata": {
  "interpreter": {
   "hash": "0ae66427e102f91c8d6e65c4891520e437d51e7e669129033053361043a57355"
  },
  "kernelspec": {
   "display_name": "Python 3.10.2 64-bit",
   "language": "python",
   "name": "python3"
  },
  "language_info": {
   "codemirror_mode": {
    "name": "ipython",
    "version": 3
   },
   "file_extension": ".py",
   "mimetype": "text/x-python",
   "name": "python",
   "nbconvert_exporter": "python",
   "pygments_lexer": "ipython3",
   "version": "3.10.2"
  },
  "orig_nbformat": 4
 },
 "nbformat": 4,
 "nbformat_minor": 2
}
