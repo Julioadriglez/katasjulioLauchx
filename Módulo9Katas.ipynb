{
 "cells": [
  {
   "cell_type": "markdown",
   "metadata": {},
   "source": [
    "# Módulo 9 - Funciones\n",
    "## Ejercicio: Uso de funciones en Python\n",
    "### Ejercicio 1: Trabajar con argumentos en funciones"
   ]
  },
  {
   "cell_type": "code",
   "execution_count": 3,
   "metadata": {},
   "outputs": [
    {
     "name": "stdout",
     "output_type": "stream",
     "text": [
      "ingrese el nivel del conbustible de los 3 tanques: \n"
     ]
    },
    {
     "data": {
      "text/plain": [
       "' reporte de los tanques:\\n    combustible total:11%\\n    primer tanque: 3%\\n    segundo tanque: 4%\\n    tercer tanque: 4%'"
      ]
     },
     "execution_count": 3,
     "metadata": {},
     "output_type": "execute_result"
    }
   ],
   "source": [
    "# Función para leer 3 tanques de combustible y muestre el promedio\n",
    "def reporte_Tanques(tanq1,tanq2,tanq3):\n",
    "    suma = tanq1+tanq2+tanq3\n",
    "    return f\"\"\" reporte de los tanques:\n",
    "    combustible total:{suma}%\n",
    "    primer tanque: {tanq1}%\n",
    "    segundo tanque: {tanq2}%\n",
    "    tercer tanque: {tanq3}%\"\"\"\n",
    "    \n",
    "\n",
    "print('ingrese el nivel del conbustible de los 3 tanques: ')\n",
    "t1 = int (input(\"\"))\n",
    "t2 = int (input(\"\"))\n",
    "t3 = int (input(\"\"))\n",
    "\n",
    "reporte_Tanques(t1,t2,t3)\n",
    "\n",
    "\n",
    "\n",
    "# Llamamos a la función que genera el reporte print(f"
   ]
  },
  {
   "cell_type": "code",
   "execution_count": 4,
   "metadata": {},
   "outputs": [
    {
     "name": "stdout",
     "output_type": "stream",
     "text": [
      "ingrese el nivel del conbustible de los 3 tanques: \n"
     ]
    },
    {
     "data": {
      "text/plain": [
       "5.0"
      ]
     },
     "execution_count": 4,
     "metadata": {},
     "output_type": "execute_result"
    }
   ],
   "source": [
    "def promedio_Tanque(total):\n",
    "    promedio = (total)/3\n",
    "    return promedio\n",
    "print('ingrese el nivel del conbustible de los 3 tanques: ')\n",
    "t1 = int (input(\"\"))\n",
    "t2 = int (input(\"\"))\n",
    "t3 = int (input(\"\"))\n",
    "\n",
    "promedio_Tanque((t1+t2+t3))\n"
   ]
  },
  {
   "cell_type": "markdown",
   "metadata": {},
   "source": [
    "## Ejercicio 2: Trabajo con argumentos de palabra clave\n",
    "### Ejercicio : Trabajar con argumentos de palabras clave en funciones"
   ]
  },
  {
   "cell_type": "code",
   "execution_count": 6,
   "metadata": {},
   "outputs": [
    {
     "name": "stdout",
     "output_type": "stream",
     "text": [
      "ingrese la hora de desplazamiento:\n",
      "ingrese tiempo de vuelo:\n",
      "ingrese el destino:\n",
      "ingrese los litros del tanque externo\n",
      "ingrese los datos del tanque interno:\n"
     ]
    },
    {
     "data": {
      "text/plain": [
       "'informe misión:\\n    hora de desplazamiento:34hr\\n    tiempo de vuelo: 56hr\\n    tiempo total de vuelo: 90hr\\n    destino: marte\\n    tanque externo: 34 l\\n    tanque interno: 67 l\\n    combustible total: 101 '"
      ]
     },
     "execution_count": 6,
     "metadata": {},
     "output_type": "execute_result"
    }
   ],
   "source": [
    "# Función con un informe preciso de la misión. Considera hora de prelanzamiento, tiempo de vuelo, destino, tanque externo y tanque interno\n",
    "def inf_cohete(h_desplaza,tiempo_vuelo,destino,tanque_externo, tanque_interno):\n",
    "    total_tiempo= h_desplaza + tiempo_vuelo\n",
    "    combustible_total = tanque_externo + tanque_interno\n",
    "    return f\"\"\"informe misión:\n",
    "    hora de desplazamiento:{h_desplaza}hr\n",
    "    tiempo de vuelo: {tiempo_vuelo}hr\n",
    "    tiempo total de vuelo: {total_tiempo}hr\n",
    "    destino: {destino}\n",
    "    tanque externo: {tanque_externo} l\n",
    "    tanque interno: {tanque_interno} l\n",
    "    combustible total: {combustible_total} \"\"\"\n",
    "    \n",
    "print('ingrese la hora de desplazamiento:')\n",
    "h_des = int(input(\"\"))\n",
    "print('ingrese tiempo de vuelo:')\n",
    "t_vue = int(input(\"\"))\n",
    "print('ingrese el destino:')\n",
    "dest = input(\"\")\n",
    "print('ingrese los litros del tanque externo')\n",
    "tan_ext = int(input(\"\"))\n",
    "print('ingrese los datos del tanque interno:')\n",
    "tan_int = int(input(\"\"))\n",
    "inf_cohete(h_des,t_vue,dest,tan_ext,tan_int)\n",
    "# Escribe tu nueva función de reporte considerando lo anterior\n",
    "\n"
   ]
  },
  {
   "cell_type": "code",
   "execution_count": 14,
   "metadata": {},
   "outputs": [
    {
     "name": "stdout",
     "output_type": "stream",
     "text": [
      "Destino: marte\n",
      "    tiempo total de vuelo: 38\n",
      "    combustible total:692\n",
      "    interno : 236 l\n",
      "externo : 456 l\n",
      "\n"
     ]
    }
   ],
   "source": [
    "def reporte_mis(destino,*minutos,**gasolina):\n",
    "    reporte= f\"\"\"Destino: {destino}\n",
    "    tiempo total de vuelo: {sum(minutos)}\n",
    "    combustible total:{sum(gasolina.values())}\n",
    "    \"\"\"\n",
    "\n",
    "    for nom_tanq, litros in gasolina.items():\n",
    "        reporte += f\"{nom_tanq} : {litros} l\\n\"\n",
    "    return reporte\n",
    "\n",
    "print(reporte_mis('marte',10,25,3,tanque_interno = 236, tanque_externo = 456))"
   ]
  }
 ],
 "metadata": {
  "interpreter": {
   "hash": "0ae66427e102f91c8d6e65c4891520e437d51e7e669129033053361043a57355"
  },
  "kernelspec": {
   "display_name": "Python 3.10.2 64-bit",
   "language": "python",
   "name": "python3"
  },
  "language_info": {
   "codemirror_mode": {
    "name": "ipython",
    "version": 3
   },
   "file_extension": ".py",
   "mimetype": "text/x-python",
   "name": "python",
   "nbconvert_exporter": "python",
   "pygments_lexer": "ipython3",
   "version": "3.10.2"
  },
  "orig_nbformat": 4
 },
 "nbformat": 4,
 "nbformat_minor": 2
}
