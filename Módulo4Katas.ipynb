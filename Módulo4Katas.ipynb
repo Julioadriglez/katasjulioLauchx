{
 "cells": [
  {
   "cell_type": "markdown",
   "metadata": {},
   "source": [
    "# Módulo 4 - Cadenas"
   ]
  },
  {
   "cell_type": "markdown",
   "metadata": {},
   "source": [
    "## Ejercicio 1: Transformar cadenas"
   ]
  },
  {
   "cell_type": "code",
   "execution_count": 69,
   "metadata": {},
   "outputs": [
    {
     "name": "stdout",
     "output_type": "stream",
     "text": [
      "['Interesting facts about the Moon', \"The Moon is Earth's only satellite\", 'There are several interesting facts about the Moon and how it affects life here on Earth', 'On average, the Moon moves 4cm away from the Earth every year', 'This yearly drift is not significant enough to cause immediate effects on Earth', 'The highest daylight temperature of the Moon is 127 C.']\n"
     ]
    }
   ],
   "source": [
    "text = \"\"\"Interesting facts about the Moon. The Moon is Earth's only satellite. There are several interesting facts about the Moon and how it affects life here on Earth. On average, the Moon moves 4cm away from the Earth every year. This yearly drift is not significant enough to cause immediate effects on Earth. The highest daylight temperature of the Moon is 127 C.\"\"\"\n",
    "div_text = text .split('. ')\n",
    "print(div_text)\n"
   ]
  },
  {
   "cell_type": "code",
   "execution_count": 70,
   "metadata": {},
   "outputs": [
    {
     "name": "stdout",
     "output_type": "stream",
     "text": [
      "On average, the Moon moves 4cm away from the Earth every year\n",
      "The highest daylight temperature of the Moon is 127 C.\n"
     ]
    }
   ],
   "source": [
    "palabra_Cl = [\"average\", \"temperature\", \"distance\"]\n",
    "for c in div_text:\n",
    "    for palabra_C in palabra_Cl:\n",
    "        if palabra_C in c:\n",
    "            print(c)"
   ]
  },
  {
   "cell_type": "code",
   "execution_count": 71,
   "metadata": {},
   "outputs": [
    {
     "name": "stdout",
     "output_type": "stream",
     "text": [
      "The highest daylight temperature of the Moon is 127 Celcius.\n"
     ]
    }
   ],
   "source": [
    "grados = [\"C\", ]\n",
    "for c in div_text:\n",
    "    for celcius in grados:\n",
    "        if celcius in c:\n",
    "            cambio=c.replace('C', 'Celcius')\n",
    "            print(cambio)\n",
    "            break"
   ]
  },
  {
   "cell_type": "markdown",
   "metadata": {},
   "source": [
    "## Ejercicio 2: Formateando Cadenas"
   ]
  },
  {
   "cell_type": "code",
   "execution_count": 72,
   "metadata": {},
   "outputs": [
    {
     "name": "stdout",
     "output_type": "stream",
     "text": [
      "Datos sobre la Earth\n",
      ".....................................\n",
      "...............................\n",
      "Planet Name: Moon\n",
      "Gravity on Earth in Kms:0.00162 Kms\n",
      "Gravity on Earth in ms:1.6199999999999999 ms\n"
     ]
    }
   ],
   "source": [
    "name = \"Moon\"\n",
    "gravity = 0.00162 # in kms\n",
    "planet = \"Earth\"\n",
    "convercion=gravity*1000 # in ms\n",
    "titulo = f'Datos sobre la {planet}'\n",
    "print(titulo)\n",
    "# Creamos la plantilla\n",
    "multilinea= f\"\"\".....................................\n",
    "...............................\n",
    "Planet Name: {name}\n",
    "Gravity on {planet} in Kms:{gravity} Kms\n",
    "Gravity on {planet} in ms:{convercion} ms\"\"\"\n",
    "print(multilinea)"
   ]
  },
  {
   "cell_type": "code",
   "execution_count": 73,
   "metadata": {},
   "outputs": [
    {
     "name": "stdout",
     "output_type": "stream",
     "text": [
      "Datos sobre la Marte \n",
      ".....................................\n",
      "...............................\n",
      "Planet Name: Ganímedes\n",
      "Gravity on Marte  in Kms:0.00143 Kms\n",
      "Gravity on Marte  in ms:1.4300000000000002 ms\n"
     ]
    }
   ],
   "source": [
    "\n",
    "# Comprueba la plantilla\n",
    "planet = 'Marte '\n",
    "gravity  = 0.00143 # in Kms\n",
    "name = 'Ganímedes'\n",
    "convercion = gravity*1000 # in ms\n",
    "otra_plantilla = \"\"\"Datos sobre la {planet}\n",
    ".....................................\n",
    "...............................\n",
    "Planet Name: {name}\n",
    "Gravity on {planet} in Kms:{gravity} Kms\n",
    "Gravity on {planet} in ms:{convercion} ms\"\"\"\n",
    "print ( otra_plantilla.format ( name=name, planet = planet, gravity = gravity, convercion = convercion))\n",
    " "
   ]
  }
 ],
 "metadata": {
  "interpreter": {
   "hash": "0ae66427e102f91c8d6e65c4891520e437d51e7e669129033053361043a57355"
  },
  "kernelspec": {
   "display_name": "Python 3.10.2 64-bit",
   "language": "python",
   "name": "python3"
  },
  "language_info": {
   "codemirror_mode": {
    "name": "ipython",
    "version": 3
   },
   "file_extension": ".py",
   "mimetype": "text/x-python",
   "name": "python",
   "nbconvert_exporter": "python",
   "pygments_lexer": "ipython3",
   "version": "3.10.2"
  },
  "orig_nbformat": 4
 },
 "nbformat": 4,
 "nbformat_minor": 2
}
