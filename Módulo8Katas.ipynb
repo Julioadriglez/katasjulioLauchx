{
 "cells": [
  {
   "cell_type": "markdown",
   "metadata": {},
   "source": [
    "# Módulo 8 - Administrar datos con diccionarios\n",
    "## Ejercicio 1: Creación de diccionarios de Python\n",
    "### Ejercicio: Crear y modificar un diccionario de Python\n"
   ]
  },
  {
   "cell_type": "code",
   "execution_count": 28,
   "metadata": {},
   "outputs": [
    {
     "name": "stdout",
     "output_type": "stream",
     "text": [
      "Planeta: Mars\n",
      "Lunas: 2\n",
      "Se mostrara el nombre del planeta y su circunferencia polar \n",
      "Planeta: Mars\n",
      "Diametro Polar (Km): 6752\n"
     ]
    }
   ],
   "source": [
    "# Crea un diccionario llamado planet con los datos p\n",
    "planet = {\n",
    "    'name': 'Mars',\n",
    "    'moons': 2\n",
    "}\n",
    "# Muestra el nombre del planeta y el número de lunas que tiene.\n",
    "print('Planeta:',planet.get('name','moons'))\n",
    "print('Lunas:',planet.get('moons'))\n",
    "# Agrega la clave circunferencia con los datos proporcionados previamente\n",
    "planet['Circunferencia (Km)'] = {\n",
    "    'polar': 6752,\n",
    "    'equatorial': 679\n",
    "}\n",
    "# Imprime el nombre del planeta con su circunferencia \n",
    "print('Se mostrara el nombre del planeta y su circunferencia polar ')\n",
    "print('Planeta:', planet['name'])\n",
    "print('Diametro Polar (Km):',planet['Circunferencia (Km)']['polar'])\n"
   ]
  },
  {
   "cell_type": "markdown",
   "metadata": {},
   "source": [
    "## Ejercicio 2: Programación dinámica con diccionarios\n",
    "### Ejercicio: Cálculo de valores"
   ]
  },
  {
   "cell_type": "code",
   "execution_count": 43,
   "metadata": {},
   "outputs": [
    {
     "name": "stdout",
     "output_type": "stream",
     "text": [
      "Numero de planetas: 12\n",
      "El resultado del promedios es: 17.833333333333332\n"
     ]
    }
   ],
   "source": [
    "# Planets and moons\n",
    "\n",
    "planet_moons = {\n",
    "    'mercury': 0,\n",
    "    'venus': 0,\n",
    "    'earth': 1,\n",
    "    'mars': 2,\n",
    "    'jupiter': 79,\n",
    "    'saturn': 82,\n",
    "    'uranus': 27,\n",
    "    'neptune': 14,\n",
    "    'pluto': 5,\n",
    "    'haumea': 2,\n",
    "    'makemake': 1,\n",
    "    'eris': 1\n",
    "}\n",
    "# Añade el código para determinar el número de planetas.\n",
    "\n",
    "planets= len(planet_moons)\n",
    "print('Numero de planetas:', planets)\n",
    "\n",
    "# Agrega el código para contar el número de lunas. \n",
    "total_moons = 0\n",
    "for suma in planet_moons.values():\n",
    "    total_moons = total_moons + suma\n",
    "\n",
    "print('El resultado del promedios es:', total_moons/planets)"
   ]
  }
 ],
 "metadata": {
  "interpreter": {
   "hash": "0ae66427e102f91c8d6e65c4891520e437d51e7e669129033053361043a57355"
  },
  "kernelspec": {
   "display_name": "Python 3.10.2 64-bit",
   "language": "python",
   "name": "python3"
  },
  "language_info": {
   "codemirror_mode": {
    "name": "ipython",
    "version": 3
   },
   "file_extension": ".py",
   "mimetype": "text/x-python",
   "name": "python",
   "nbconvert_exporter": "python",
   "pygments_lexer": "ipython3",
   "version": "3.10.2"
  },
  "orig_nbformat": 4
 },
 "nbformat": 4,
 "nbformat_minor": 2
}
