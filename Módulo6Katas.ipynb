{
 "cells": [
  {
   "cell_type": "markdown",
   "metadata": {},
   "source": [
    "# Módulo 6 - Introducción a las listas"
   ]
  },
  {
   "cell_type": "markdown",
   "metadata": {},
   "source": [
    "## Ejercicio1: Crear y usar listas de Python"
   ]
  },
  {
   "cell_type": "code",
   "execution_count": 9,
   "metadata": {},
   "outputs": [
    {
     "name": "stdout",
     "output_type": "stream",
     "text": [
      "El Número de planetas en el sistema solar son  : 8\n",
      "El ultimo planeta del sistema solar es  Neptuno\n",
      "El Número de planetas en el sistema solar son  : 9\n",
      "El ultimo planeta del sistema solar es  Pluton\n"
     ]
    }
   ],
   "source": [
    "# Creamos la lista planets y la mostramos\n",
    "\n",
    "planets = ['Mercurio', 'Venus','Tierra','Marte','Jupiter','Saturno','Urano','Neptuno']\n",
    "\n",
    "num_Planetas = len(planets)\n",
    "\n",
    "print('El Número de planetas en el sistema solar son  :', num_Planetas )\n",
    "print('El ultimo planeta del sistema solar es ',planets[-1] )\n",
    "\n",
    "# Agregamos a plutón y mostramos el último elemento\n",
    "\n",
    "planets.append('Pluton')\n",
    "num_Planetas = len(planets)\n",
    "\n",
    "print('El Número de planetas en el sistema solar son  :', num_Planetas )\n",
    "print('El ultimo planeta del sistema solar es ',planets[-1] )\n",
    "\n"
   ]
  },
  {
   "cell_type": "markdown",
   "metadata": {},
   "source": [
    "## Ejercicio 2: Trabajando con datos de una lista"
   ]
  },
  {
   "cell_type": "code",
   "execution_count": 10,
   "metadata": {},
   "outputs": [
    {
     "name": "stdout",
     "output_type": "stream",
     "text": [
      "Ingrese el nombre de un planeta comenzando con mayuscula la primer letra\n",
      "El planeta ingresado es : Tierra\n",
      "Es el planeta No. 3  en el sistema solar\n",
      "Los los planetas más cercanos al sol antes de Tierra son: ['Mercurio', 'Venus']\n",
      "Lolos planetas más lejanos al sol despues de Tierra son ['Marte', 'Jupiter', 'Saturno', 'Urano']\n"
     ]
    }
   ],
   "source": [
    "# Lista de planetas\n",
    "planets = ['Mercurio', 'Venus','Tierra','Marte','Jupiter','Saturno','Urano','Neptuno']\n",
    "\n",
    "# Solicitamos el nombre de un planeta *Pista:  input()*\n",
    "print('Ingrese el nombre de un planeta comenzando con mayuscula la primer letra')\n",
    "pedir_Planeta = input('')\n",
    "print('El planeta ingresado es :', pedir_Planeta )\n",
    "\n",
    "# Busca el planeta en la lista\n",
    "buscar = planets.index(pedir_Planeta)\n",
    "print('Es el planeta No.',buscar+1,' en el sistema solar')\n",
    "\n",
    "# Muestra los planetas más cercanos al sol\n",
    "planet_Cercano_Sol = planets[0:buscar]\n",
    "print('Los los planetas más cercanos al sol antes de',pedir_Planeta, 'son:', planet_Cercano_Sol )\n",
    "planet_Lejano_Sol = planets[(buscar+1):-1]\n",
    "print('Lolos planetas más lejanos al sol despues de', pedir_Planeta,'son:',planet_Lejano_Sol )"
   ]
  },
  {
   "cell_type": "code",
   "execution_count": null,
   "metadata": {},
   "outputs": [],
   "source": []
  }
 ],
 "metadata": {
  "interpreter": {
   "hash": "0ae66427e102f91c8d6e65c4891520e437d51e7e669129033053361043a57355"
  },
  "kernelspec": {
   "display_name": "Python 3.10.2 64-bit",
   "language": "python",
   "name": "python3"
  },
  "language_info": {
   "codemirror_mode": {
    "name": "ipython",
    "version": 3
   },
   "file_extension": ".py",
   "mimetype": "text/x-python",
   "name": "python",
   "nbconvert_exporter": "python",
   "pygments_lexer": "ipython3",
   "version": "3.10.2"
  },
  "orig_nbformat": 4
 },
 "nbformat": 4,
 "nbformat_minor": 2
}
