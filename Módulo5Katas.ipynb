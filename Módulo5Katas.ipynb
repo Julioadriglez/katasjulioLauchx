{
 "cells": [
  {
   "cell_type": "markdown",
   "metadata": {},
   "source": [
    "# Módulo 5 - Usar operaciones matemáticas"
   ]
  },
  {
   "cell_type": "markdown",
   "metadata": {},
   "source": [
    "## Ejercicio1 - Utilizar operadores aritméticos"
   ]
  },
  {
   "cell_type": "code",
   "execution_count": 9,
   "metadata": {},
   "outputs": [
    {
     "name": "stdout",
     "output_type": "stream",
     "text": [
      "Dsitancia de jupiter en Km: 778547200 Km\n",
      "Dsitancia de jupiter en millas: 483477811.2 millas\n",
      "Distancia de la Tierra en Km: 149597870 Km\n",
      "Distancia de la Tierra en millas: 92900277.27 millas\n",
      "Esta es la distancia entre los 2 planetas 390577533.93 millas\n"
     ]
    }
   ],
   "source": [
    "# Crear variables para almacenar las dos distancias\n",
    "# ¡Asegúrate de quitar las comas!\n",
    "\n",
    "dist_Tierra = 149597870\n",
    "dist_Jupiter = 778547200\n",
    "\n",
    "print('Dsitancia de jupiter en Km:', dist_Jupiter,'Km')\n",
    "print('Dsitancia de jupiter en millas:', dist_Jupiter*0.621,'millas')\n",
    "print('Distancia de la Tierra en Km:', dist_Tierra,'Km')\n",
    "print('Distancia de la Tierra en millas:', dist_Tierra*0.621,'millas')\n",
    "# Calcular la distancia entre planetas\n",
    "dist_Planetas =(dist_Jupiter - dist_Tierra)*0.621\n",
    "print('Esta es la distancia entre los 2 planetas', dist_Planetas,\"millas\")"
   ]
  },
  {
   "cell_type": "markdown",
   "metadata": {},
   "source": [
    "## Ejercicio 2: convierte cadenas en números y usa valores absolutos"
   ]
  },
  {
   "cell_type": "code",
   "execution_count": 15,
   "metadata": {},
   "outputs": [
    {
     "name": "stdout",
     "output_type": "stream",
     "text": [
      "Ingrese la distancia de la tierra en Km:\n",
      "La distancia de la Tierra ingresada es: 1231321 Km\n",
      "Ingrese la distancia de  saturno en Km:\n",
      "La distancia de  Saturno ingresada es: 444425435 Km\n",
      "Distancia entre los dos planetas en Km: 443194114 Km\n",
      "Distancia entre los dos planetas en Km: 275223544.79399997 millas\n"
     ]
    }
   ],
   "source": [
    "# Almacenar las entradas del usuario\n",
    "print ('Ingrese la distancia de la tierra en Km:')\n",
    "tierra= input(\"\")\n",
    "print('La distancia de la Tierra ingresada es:', tierra,'Km')\n",
    "print ('Ingrese la distancia de  saturno en Km:')\n",
    "saturno = input(\"\")\n",
    "print('La distancia de  Saturno ingresada es:', saturno,'Km')\n",
    "num_tierra = int(tierra)\n",
    "num_saturno = int(saturno)\n",
    "print('Distancia entre los dos planetas en Km:',abs(num_tierra-num_saturno),'Km')\n",
    "print('Distancia entre los dos planetas en Km:',(abs(num_tierra-num_saturno))*0.621,'millas')"
   ]
  }
 ],
 "metadata": {
  "interpreter": {
   "hash": "0ae66427e102f91c8d6e65c4891520e437d51e7e669129033053361043a57355"
  },
  "kernelspec": {
   "display_name": "Python 3.10.2 64-bit",
   "language": "python",
   "name": "python3"
  },
  "language_info": {
   "codemirror_mode": {
    "name": "ipython",
    "version": 3
   },
   "file_extension": ".py",
   "mimetype": "text/x-python",
   "name": "python",
   "nbconvert_exporter": "python",
   "pygments_lexer": "ipython3",
   "version": "3.10.2"
  },
  "orig_nbformat": 4
 },
 "nbformat": 4,
 "nbformat_minor": 2
}
